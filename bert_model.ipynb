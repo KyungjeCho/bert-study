{
 "cells": [
  {
   "cell_type": "markdown",
   "metadata": {},
   "source": [
    "# Bert Model"
   ]
  },
  {
   "cell_type": "markdown",
   "metadata": {},
   "source": [
    "<img src=\"https://user-images.githubusercontent.com/1250095/49935094-73f99c80-ff13-11e8-8ba5-50a008ed4d20.png\" />"
   ]
  },
  {
   "cell_type": "code",
   "execution_count": 5,
   "metadata": {},
   "outputs": [],
   "source": [
    "import torch\n",
    "import torch.nn as nn\n",
    "import math"
   ]
  },
  {
   "cell_type": "markdown",
   "metadata": {},
   "source": [
    "## GELU"
   ]
  },
  {
   "cell_type": "markdown",
   "metadata": {},
   "source": [
    "Gaussian Error Linear Units\n",
    "<img src=\"https://qph.c7.quoracdn.net/main-qimg-afa9fa5305569f7c9f028271a00cfacf\" />\n",
    "BERT는 비선형성을 위한 활성화 함수로 GELU를 사용합니다. GELU는 확률론적 개념을 도입하여 엘루보다 계산 비용이 저렴하고 빠르게 수렴합니다. \n",
    "exp()이나 σ()는 계산 비용이 많이 든다."
   ]
  },
  {
   "cell_type": "markdown",
   "metadata": {},
   "source": [
    "Gaussian Error Linear Unit(GELU)\n",
    "\n",
    "\\begin{align}\n",
    "f(x) &= 0.5x(1 + tanh[ \\sqrt{2/\\pi}(x + 0.044715x^3)]) \\\\\n",
    "     &or \\\\\n",
    "     &= x \\sigma(1.702x)\n",
    "\\end{align}"
   ]
  },
  {
   "cell_type": "code",
   "execution_count": 17,
   "metadata": {},
   "outputs": [],
   "source": [
    "def gelu(x):\n",
    "    \"\"\"\n",
    "    Implementation of gelu activation function.\n",
    "    gelu 함수 구현\n",
    "    \"\"\"\n",
    "    \n",
    "    # return 0.5 * x * (1.0 + torch.tanh(math.sqrt(2.0 / x) * (x + 0.044715 * math.pow(x, 3))))\n",
    "    # OpenAI GPT's gelu is slightly different.\n",
    "    # OpenAI GPT의 갤루는 조금 다릅니다.\n",
    "    return x * 0.5 * (1.0 + torch.erf(x / math.sqrt(2.0)))"
   ]
  },
  {
   "cell_type": "code",
   "execution_count": 6,
   "metadata": {},
   "outputs": [
    {
     "name": "stdout",
     "output_type": "stream",
     "text": [
      "Help on built-in function erf:\n",
      "\n",
      "erf(...)\n",
      "    erf(tensor, out=None) -> Tensor\n",
      "    \n",
      "    Computes the error function of each element. The error function is defined as follows:\n",
      "    \n",
      "    .. math::\n",
      "        \\mathrm{erf}(x) = \\frac{2}{\\sqrt{\\pi}} \\int_{0}^{x} e^{-t^2} dt\n",
      "    \n",
      "    Args:\n",
      "        tensor (Tensor): the input tensor\n",
      "        out (Tensor, optional): the output tensor\n",
      "    \n",
      "    Example::\n",
      "    \n",
      "        >>> torch.erf(torch.tensor([0, -1., 10.]))\n",
      "        tensor([ 0.0000, -0.8427,  1.0000])\n",
      "\n"
     ]
    }
   ],
   "source": [
    "help(torch.erf)"
   ]
  },
  {
   "cell_type": "code",
   "execution_count": 18,
   "metadata": {},
   "outputs": [
    {
     "data": {
      "text/plain": [
       "tensor([[0.8413],\n",
       "        [1.9545]])"
      ]
     },
     "execution_count": 18,
     "metadata": {},
     "output_type": "execute_result"
    }
   ],
   "source": [
    "x = torch.tensor([[1.0], [2.0]])\n",
    "gelu(x)"
   ]
  },
  {
   "cell_type": "code",
   "execution_count": null,
   "metadata": {},
   "outputs": [],
   "source": []
  }
 ],
 "metadata": {
  "kernelspec": {
   "display_name": "Python 3",
   "language": "python",
   "name": "python3"
  },
  "language_info": {
   "codemirror_mode": {
    "name": "ipython",
    "version": 3
   },
   "file_extension": ".py",
   "mimetype": "text/x-python",
   "name": "python",
   "nbconvert_exporter": "python",
   "pygments_lexer": "ipython3",
   "version": "3.6.3"
  }
 },
 "nbformat": 4,
 "nbformat_minor": 2
}
